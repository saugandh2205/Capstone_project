{
 "cells": [
  {
   "cell_type": "code",
   "execution_count": 3,
   "id": "9c189273-ee76-4754-968d-ba2f95612ce6",
   "metadata": {},
   "outputs": [],
   "source": [
    "import pandas as pd \n",
    "import dash\n",
    "from dash import html, dcc"
   ]
  },
  {
   "cell_type": "code",
   "execution_count": 5,
   "id": "d70a3f65-dcdb-47c9-bf11-17d3f488a57b",
   "metadata": {},
   "outputs": [],
   "source": [
    "from dash.dependencies import Input,Output, State\n",
    "import plotly.graph_objects as go\n",
    "import plotly.express as px\n",
    "from dash import no_update\n",
    "import datetime as dt"
   ]
  },
  {
   "cell_type": "code",
   "execution_count": 19,
   "id": "6f3babd1-509d-4abf-a35d-6ff31f6a6992",
   "metadata": {},
   "outputs": [],
   "source": [
    "app = dash.Dash(__name__)"
   ]
  },
  {
   "cell_type": "code",
   "execution_count": null,
   "id": "849d487f-f447-4512-a0bc-9c7897c01410",
   "metadata": {},
   "outputs": [],
   "source": [
    "import plotly.express as px"
   ]
  },
  {
   "cell_type": "code",
   "execution_count": 37,
   "id": "ce0f99c4-6a72-4074-841a-7dbb7824ec46",
   "metadata": {},
   "outputs": [
    {
     "data": {
      "text/plain": [
       "Index(['Region', 'Date', 'Estimated_fire_area',\n",
       "       'Mean_estimated_fire_brightness', 'Mean_estimated_fire_radiative_power',\n",
       "       'Mean_confidence', 'Std_confidence', 'Var_confidence', 'Count',\n",
       "       'Replaced'],\n",
       "      dtype='object')"
      ]
     },
     "execution_count": 37,
     "metadata": {},
     "output_type": "execute_result"
    }
   ],
   "source": [
    "df.columns"
   ]
  },
  {
   "cell_type": "code",
   "execution_count": 51,
   "id": "c23ffbfd-b6d9-4659-a886-291cca5ea6d3",
   "metadata": {},
   "outputs": [
    {
     "data": {
      "text/plain": [
       "<bound method Series.unique of 0        NSW\n",
       "1        NSW\n",
       "2        NSW\n",
       "3        NSW\n",
       "4        NSW\n",
       "        ... \n",
       "26401     WA\n",
       "26402     WA\n",
       "26403     WA\n",
       "26404     WA\n",
       "26405     WA\n",
       "Name: Region, Length: 26406, dtype: object>"
      ]
     },
     "execution_count": 51,
     "metadata": {},
     "output_type": "execute_result"
    }
   ],
   "source": [
    "df['Region'].unique"
   ]
  },
  {
   "cell_type": "code",
   "execution_count": 67,
   "id": "ed9023c6-77ee-45f5-811e-ba330a1f8165",
   "metadata": {},
   "outputs": [
    {
     "ename": "SyntaxError",
     "evalue": "invalid syntax. Perhaps you forgot a comma? (1733960166.py, line 49)",
     "output_type": "error",
     "traceback": [
      "\u001b[0;36m  Cell \u001b[0;32mIn[67], line 49\u001b[0;36m\u001b[0m\n\u001b[0;31m    @app.callback([Output(component_id=.........., component_property=..........),\u001b[0m\n\u001b[0m                                       ^\u001b[0m\n\u001b[0;31mSyntaxError\u001b[0m\u001b[0;31m:\u001b[0m invalid syntax. Perhaps you forgot a comma?\n"
     ]
    }
   ],
   "source": [
    "# Read the wildfire data into pandas dataframe\n",
    "df =  pd.read_csv('https://cf-courses-data.s3.us.cloud-object-storage.appdomain.cloud/IBMDeveloperSkillsNetwork-DV0101EN-SkillsNetwork/Data%20Files/Historical_Wildfires.csv')\n",
    "\n",
    "#Extract year and month from the date column\n",
    "\n",
    "df['Month'] = pd.to_datetime(df['Date']).dt.month_name() #used for the names of the months\n",
    "df['Year'] = pd.to_datetime(df['Date']).dt.year\n",
    "\n",
    "#Layout Section of Dash\n",
    "\n",
    "#Task 2.1 Add the Title to the Dashboard\n",
    "app.layout = html.Div(children=[html.H1('Australia Wildfire Dashboard'),\n",
    "\n",
    "# TASK 2.2: Add the radio items and a dropdown right below the first inner division\n",
    "#outer division starts\n",
    "     html.Div([\n",
    "                   # First inner divsion for  adding dropdown helper text for Selected Drive wheels\n",
    "                    html.Div([\n",
    "                            html.H2('Select Region', style={'text-align': 'center'}),\n",
    "\n",
    "                    #Radio items to select the region\n",
    "                    #dcc.RadioItems(['NSW',.....], value ='...', id='...',inline=True)]),\n",
    "                    dcc.RadioItems([{\"label\":\"New South Wales\",\"value\": \"NSW\"},\n",
    "                                    {\"label\":\"Northern Territory\",\"value\": \"NT\"},\n",
    "                                    {\"label\":\"Queensland\",\"value\": \"QL\"},\n",
    "                                    {\"label\":\"Tasmania\",\"value\": \"TA\"},\n",
    "                                    {\"label\":\"Victoria\",\"value\": \"VI\"},\n",
    "                                    {\"label\":\"Western Australia\",\"value\": \"WA\"},], value = \"default_value\", id='region_dropdown',inline=True)]),\n",
    "                    #Dropdown to select year\n",
    "                    html.Div([\n",
    "                            html.H2('Select Year', style={'text-align'}),\n",
    "                        dcc.Dropdown(id='Year-Dropdown')\n",
    "                    ]),\n",
    "#Second Inner division for adding 2 inner divisions for 2 output graphs\n",
    "#TASK 2.3: Add two empty divisions for output inside the next inner division.\n",
    "                    html.Div([\n",
    "                \n",
    "                        html.Div([ ], id='........'),\n",
    "                        html.Div([ ], id='.........')\n",
    "                    ], style={'display':'flex'}),\n",
    "\n",
    "    ])\n",
    "    #outer division ends\n",
    "\n",
    "])\n",
    "#layout ends\n",
    "#TASK 2.4: Add the Ouput and input components inside the app.callback decorator.\n",
    "#Place to add @app.callback Decorator\n",
    "@app.callback([Output(component_id=.........., component_property=..........),\n",
    "               Output(component_id=.........., component_property=..........)],\n",
    "               [Input(component_id=.........., component_property=..........),\n",
    "                Input(component_id=.........., component_property=..........)])\n",
    "\n",
    "   \n",
    "#TASK 2.5: Add the callback function.\n",
    "#Place to define the callback function .\n",
    "def reg_year_display(input_region,input_year):\n",
    "    \n",
    "    #data\n",
    "   region_data = df[df['Region'] == input_region]\n",
    "   y_r_data = region_data[region_data['Year']==input_year]\n",
    "    #Plot one - Monthly Average Estimated Fire Area\n",
    "   \n",
    "   est_data = .........................\n",
    "   fig1 = px.pie(.............., title=\"{} : Monthly Average Estimated Fire Area in year {}\".format(input_region,input_year))\n",
    "   \n",
    "     #Plot two - Monthly Average Count of Pixels for Presumed Vegetation Fires\n",
    "   veg_data = .............................\n",
    "   fig2 = px.bar(..............., title='{} : Average Count of Pixels for Presumed Vegetation Fires in year {}'.format(input_region,input_year))\n",
    "    \n",
    "   return [.......,\n",
    "            ......... ]\n",
    "\n",
    "if __name__ == '__main__':\n",
    "    app.run_server()"
   ]
  },
  {
   "cell_type": "code",
   "execution_count": 27,
   "id": "b6a0a7b7-d8b4-41a5-b358-2a0968c10473",
   "metadata": {},
   "outputs": [
    {
     "ename": "NameError",
     "evalue": "name 'df' is not defined",
     "output_type": "error",
     "traceback": [
      "\u001b[0;31m---------------------------------------------------------------------------\u001b[0m",
      "\u001b[0;31mNameError\u001b[0m                                 Traceback (most recent call last)",
      "Cell \u001b[0;32mIn[27], line 1\u001b[0m\n\u001b[0;32m----> 1\u001b[0m df\u001b[38;5;241m.\u001b[39mhead()\n",
      "\u001b[0;31mNameError\u001b[0m: name 'df' is not defined"
     ]
    }
   ],
   "source": [
    "df.head()"
   ]
  },
  {
   "cell_type": "code",
   "execution_count": 29,
   "id": "71f60f41-899f-4b9c-95d6-9bf35d1ace1f",
   "metadata": {},
   "outputs": [],
   "source": [
    "df =  pd.read_csv('https://cf-courses-data.s3.us.cloud-object-storage.appdomain.cloud/IBMDeveloperSkillsNetwork-DV0101EN-SkillsNetwork/Data%20Files/Historical_Wildfires.csv')"
   ]
  },
  {
   "cell_type": "markdown",
   "id": "633d250c-2e22-47c4-bbe0-7de862c0cd02",
   "metadata": {},
   "source": [
    "# Assistant\n",
    "The selected code `app = dash.Dash(__name__)` initializes a new Dash application instance:\n",
    "\n",
    "1. `dash.Dash()` creates a new Dash application object\n",
    "2. `__name__` is a special Python variable that represents the current module's name\n",
    "3. The resulting Dash application instance is stored in the variable `app`\n",
    "\n",
    "This is typically the first step in creating a Dash web application and serves as the foundation for adding components, layouts, and callbacks."
   ]
  },
  {
   "cell_type": "code",
   "execution_count": 25,
   "id": "3c9e496a-6088-49b1-ad01-8ff5b7660c01",
   "metadata": {},
   "outputs": [
    {
     "ename": "SyntaxError",
     "evalue": "unterminated string literal (detected at line 29) (388132730.py, line 29)",
     "output_type": "error",
     "traceback": [
      "\u001b[0;36m  Cell \u001b[0;32mIn[25], line 29\u001b[0;36m\u001b[0m\n\u001b[0;31m    {\"label\":\"...\",\"value\": ..}], value = \"...\", id='.....,inline=True)]),\u001b[0m\n\u001b[0m                                                    ^\u001b[0m\n\u001b[0;31mSyntaxError\u001b[0m\u001b[0;31m:\u001b[0m unterminated string literal (detected at line 29)\n"
     ]
    }
   ],
   "source": [
    "# Read the wildfire data into pandas dataframe\n",
    "df =  pd.read_csv('https://cf-courses-data.s3.us.cloud-object-storage.appdomain.cloud/IBMDeveloperSkillsNetwork-DV0101EN-SkillsNetwork/Data%20Files/Historical_Wildfires.csv')\n",
    "\n",
    "#Extract year and month from the date column\n",
    "\n",
    "df['Month'] = pd.to_datetime(df['Date']).dt.month_name() #used for the names of the months\n",
    "df['Year'] = pd.to_datetime(df['Date']).dt.year\n",
    "\n",
    "#Layout Section of Dash\n",
    "\n",
    "#Task 2.1 Add the Title to the Dashboard\n",
    "app.layout = html.Div(children=[html.H1(..................),\n",
    "\n",
    "# TASK 2.2: Add the radio items and a dropdown right below the first inner division\n",
    "#outer division starts\n",
    "     html.Div([\n",
    "                   # First inner divsion for  adding dropdown helper text for Selected Drive wheels\n",
    "                    html.Div([\n",
    "                            html.H2(.........),\n",
    "\n",
    "                    #Radio items to select the region\n",
    "                    #dcc.RadioItems(['NSW',.....], value ='...', id='...',inline=True)]),\n",
    "                    dcc.RadioItems([{\"label\":\"New South Wales\",\"value\": \"NSW\"},\n",
    "                                    {..........},\n",
    "                                    {..........},\n",
    "                                    {..........},\n",
    "                                    {..........},\n",
    "                                    {..........},\n",
    "                                    {\"label\":\"...\",\"value\": ..}], value = \"default_value\", id='region_dropdown',inline=True)]),\n",
    "                    #Dropdown to select year\n",
    "                    html.Div([\n",
    "                            html.H2('.........', style={...........}),\n",
    "                        dcc.Dropdown(.....................)\n",
    "                    ]),\n",
    "#Second Inner division for adding 2 inner divisions for 2 output graphs\n",
    "#TASK 2.3: Add two empty divisions for output inside the next inner division.\n",
    "                    html.Div([\n",
    "                \n",
    "                        html.Div([ ], id='........'),\n",
    "                        html.Div([ ], id='.........')\n",
    "                    ], style={'.........}),\n",
    "\n",
    "    ])\n",
    "    #outer division ends\n",
    "\n",
    "])\n",
    "#layout ends\n",
    "#TASK 2.4: Add the Ouput and input components inside the app.callback decorator.\n",
    "#Place to add @app.callback Decorator\n",
    "@app.callback([Output(component_id=.........., component_property=..........),\n",
    "               Output(component_id=.........., component_property=..........)],\n",
    "               [Input(component_id=.........., component_property=..........),\n",
    "                Input(component_id=.........., component_property=..........)])\n",
    "\n",
    "   \n",
    "#TASK 2.5: Add the callback function.\n",
    "#Place to define the callback function .\n",
    "def reg_year_display(input_region,input_year):\n",
    "    \n",
    "    #data\n",
    "   region_data = df[df['Region'] == input_region]\n",
    "   y_r_data = region_data[region_data['Year']==input_year]\n",
    "    #Plot one - Monthly Average Estimated Fire Area\n",
    "   \n",
    "   est_data = .........................\n",
    "   fig1 = px.pie(.............., title=\"{} : Monthly Average Estimated Fire Area in year {}\".format(input_region,input_year))\n",
    "   \n",
    "     #Plot two - Monthly Average Count of Pixels for Presumed Vegetation Fires\n",
    "   veg_data = .............................\n",
    "   fig2 = px.bar(..............., title='{} : Average Count of Pixels for Presumed Vegetation Fires in year {}'.format(input_region,input_year))\n",
    "    \n",
    "   return [.......,\n",
    "            ......... ]\n",
    "\n",
    "if __name__ == '__main__':\n",
    "    app.run_server()"
   ]
  },
  {
   "cell_type": "markdown",
   "id": "57fbb4b6-8231-470b-baff-95dd2adf7704",
   "metadata": {},
   "source": [
    "# Assistant\n",
    "The error occurs because there's an unterminated string literal in the code, specifically around line 29. This usually happens when quotation marks aren't properly closed or when there's a missing quotation mark.\n",
    "\n",
    "Looking at your code, I notice several incomplete parts marked with ellipsis (...) and some syntax issues with the inline parameter. The error is likely due to improper string formatting in the Dash components.\n",
    "\n",
    "Would you like me to provide a corrected basic structure for this Dash application code?"
   ]
  },
  {
   "cell_type": "code",
   "execution_count": 23,
   "id": "9a0837eb-c266-4f56-bcb0-bbfd1f18bd0a",
   "metadata": {},
   "outputs": [
    {
     "ename": "TypeError",
     "evalue": "'NoneType' object is not callable",
     "output_type": "error",
     "traceback": [
      "\u001b[0;31m---------------------------------------------------------------------------\u001b[0m",
      "\u001b[0;31mTypeError\u001b[0m                                 Traceback (most recent call last)",
      "Cell \u001b[0;32mIn[23], line 2\u001b[0m\n\u001b[1;32m      1\u001b[0m \u001b[38;5;66;03m# Corrected structure with proper string formatting and syntax\u001b[39;00m\n\u001b[0;32m----> 2\u001b[0m \u001b[38;5;129m@app\u001b[39m\u001b[38;5;241m.\u001b[39mlayout\n\u001b[1;32m      3\u001b[0m \u001b[38;5;28;01mdef\u001b[39;00m \u001b[38;5;21mcreate_layout\u001b[39m():\n\u001b[1;32m      4\u001b[0m     \u001b[38;5;28;01mreturn\u001b[39;00m html\u001b[38;5;241m.\u001b[39mDiv([\n\u001b[1;32m      5\u001b[0m         \u001b[38;5;66;03m# First dropdown\u001b[39;00m\n\u001b[1;32m      6\u001b[0m         html\u001b[38;5;241m.\u001b[39mDiv([\n\u001b[0;32m   (...)\u001b[0m\n\u001b[1;32m     28\u001b[0m         ], style\u001b[38;5;241m=\u001b[39m{\u001b[38;5;124m'\u001b[39m\u001b[38;5;124mdisplay\u001b[39m\u001b[38;5;124m'\u001b[39m: \u001b[38;5;124m'\u001b[39m\u001b[38;5;124mflex\u001b[39m\u001b[38;5;124m'\u001b[39m})  \u001b[38;5;66;03m# Add your style properties\u001b[39;00m\n\u001b[1;32m     29\u001b[0m     ])\n\u001b[1;32m     31\u001b[0m \u001b[38;5;66;03m# Callback decorator\u001b[39;00m\n",
      "\u001b[0;31mTypeError\u001b[0m: 'NoneType' object is not callable"
     ]
    }
   ],
   "source": [
    "# Corrected structure with proper string formatting and syntax\n",
    "@app.layout\n",
    "def create_layout():\n",
    "    return html.Div([\n",
    "        # First dropdown\n",
    "        html.Div([\n",
    "            dcc.Dropdown(\n",
    "                id='region-dropdown',\n",
    "                options=[{\"label\": \"label1\", \"value\": \"value1\"}],  # Replace with your actual options\n",
    "                value=\"default_value\",\n",
    "                inline=True\n",
    "            )\n",
    "        ]),\n",
    "        \n",
    "        # Second dropdown\n",
    "        html.Div([\n",
    "            html.H2('Select Year', style={'text-align': 'center'}),\n",
    "            dcc.Dropdown(\n",
    "                id='year-dropdown',\n",
    "                # Add your dropdown options here\n",
    "            )\n",
    "        ]),\n",
    "        \n",
    "        # Output divisions\n",
    "        html.Div([\n",
    "            html.Div([], id='plot-1-container'),\n",
    "            html.Div([], id='plot-2-container')\n",
    "        ], style={'display': 'flex'})  # Add your style properties\n",
    "    ])\n",
    "\n",
    "# Callback decorator\n",
    "@app.callback(\n",
    "    [Output(component_id='plot-1-container', component_property='children'),\n",
    "     Output(component_id='plot-2-container', component_property='children')],\n",
    "    [Input(component_id='region-dropdown', component_property='value'),\n",
    "     Input(component_id='year-dropdown', component_property='value')]\n",
    ")\n",
    "\n",
    "def reg_year_display(input_region, input_year):\n",
    "    # Data filtering\n",
    "    region_data = df[df['Region'] == input_region]\n",
    "    y_r_data = region_data[region_data['Year'] == input_year]\n",
    "    \n",
    "    # Plot one - Monthly Average Estimated Fire Area\n",
    "    est_data = y_r_data  # Add your data processing here\n",
    "    fig1 = px.pie(est_data, \n",
    "                  # Add your pie chart parameters here\n",
    "                  title=f\"{input_region}: Monthly Average Estimated Fire Area in year {input_year}\")\n",
    "    \n",
    "    # Plot two - Monthly Average Count of Pixels\n",
    "    veg_data = y_r_data  # Add your data processing here\n",
    "    fig2 = px.bar(veg_data,\n",
    "                  # Add your bar chart parameters here\n",
    "                  title=f'{input_region}: Average Count of Pixels for Presumed Vegetation Fires in year {input_year}')\n",
    "    \n",
    "    return [dcc.Graph(figure=fig1),\n",
    "            dcc.Graph(figure=fig2)]\n",
    "\n",
    "if __name__ == '__main__':\n",
    "    app.run_server()"
   ]
  },
  {
   "cell_type": "code",
   "execution_count": null,
   "id": "74c19d49-ba46-4eca-897f-500a942fe971",
   "metadata": {},
   "outputs": [],
   "source": []
  },
  {
   "cell_type": "code",
   "execution_count": null,
   "id": "4220e831-2480-4e06-ac1c-cd4a8bf57b4c",
   "metadata": {},
   "outputs": [],
   "source": []
  },
  {
   "cell_type": "code",
   "execution_count": null,
   "id": "b9abbbfa-4974-4f53-b2e4-7f38d744b782",
   "metadata": {},
   "outputs": [],
   "source": []
  },
  {
   "cell_type": "code",
   "execution_count": null,
   "id": "c23e94de-00b3-4254-8b3f-5ee6b08d556c",
   "metadata": {},
   "outputs": [],
   "source": []
  },
  {
   "cell_type": "code",
   "execution_count": null,
   "id": "bf71b357-b907-455a-b5c9-2a1f2d0ad792",
   "metadata": {},
   "outputs": [],
   "source": []
  },
  {
   "cell_type": "code",
   "execution_count": null,
   "id": "6a878eb8-5f4c-4257-9897-98b5fbd4b0be",
   "metadata": {},
   "outputs": [],
   "source": []
  }
 ],
 "metadata": {
  "kernelspec": {
   "display_name": "Python [conda env:base] *",
   "language": "python",
   "name": "conda-base-py"
  },
  "language_info": {
   "codemirror_mode": {
    "name": "ipython",
    "version": 3
   },
   "file_extension": ".py",
   "mimetype": "text/x-python",
   "name": "python",
   "nbconvert_exporter": "python",
   "pygments_lexer": "ipython3",
   "version": "3.12.7"
  }
 },
 "nbformat": 4,
 "nbformat_minor": 5
}
